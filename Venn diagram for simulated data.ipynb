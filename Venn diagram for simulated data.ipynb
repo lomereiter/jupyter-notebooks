{
 "cells": [
  {
   "cell_type": "markdown",
   "metadata": {},
   "source": [
    "This dataset is based on a real dataset with lots of annotations, which can be browsed in the [METASPACE results web interface](http://alpha.metasp.eu) under the name `MPIB//regenwurm_pos`. Simulated data was generated from it using the same method as in the two [preceding](https://github.com/lomereiter/jupyter-notebooks/blob/master/NNMF.ipynb) [notebooks](\n",
    "https://github.com/lomereiter/jupyter-notebooks/blob/master/Simulating%20an%20IMS%20dataset%20from%20NMF%20factorization%20of%20real%20data.ipynb).\n",
    "\n",
    "We start with loading the layers corresponding to the spectral components produced by nonnegative matrix factorization:"
   ]
  },
  {
   "cell_type": "code",
   "execution_count": 1,
   "metadata": {
    "collapsed": false
   },
   "outputs": [],
   "source": [
    "import pickle\n",
    "import os\n",
    "\n",
    "layers = pickle.load(open(os.path.expanduser(\"~/simulated_2016_05_04_earthwurm.layers.pkl\")))"
   ]
  },
  {
   "cell_type": "code",
   "execution_count": 2,
   "metadata": {
    "collapsed": false
   },
   "outputs": [],
   "source": [
    "from pyMSpec.pyisocalc import pyisocalc\n",
    "\n",
    "# sum formulas should all be normalized so that C5HNS3 is the same as H1S3N1C5\n",
    "def normalized(sf):\n",
    "    return str(pyisocalc.parseSumFormula(sf))\n",
    "\n",
    "# read all sum formulas (without adducts) from the layers\n",
    "sim_layer_formulas = set()\n",
    "\n",
    "for layer in layers['layers_list']:\n",
    "    for sf in layers['layers_list'][layer]['sf_list']:\n",
    "        sim_layer_formulas.add(normalized(sf['sf_a'].split('+')[0]))"
   ]
  },
  {
   "cell_type": "markdown",
   "metadata": {},
   "source": [
    "Next we load all molecules from CheBI under 'metabolite' node, using CheBI import script from `alexandrovteam/SM_distributed` repo:"
   ]
  },
  {
   "cell_type": "code",
   "execution_count": 4,
   "metadata": {
    "collapsed": false
   },
   "outputs": [
    {
     "name": "stdout",
     "output_type": "stream",
     "text": [
      "8757\n",
      "CPU times: user 16.8 s, sys: 208 ms, total: 17 s\n",
      "Wall time: 27.9 s\n"
     ]
    }
   ],
   "source": [
    "%%time\n",
    "chebi = set()\n",
    "\n",
    "import sys\n",
    "sys.path.append(os.path.expanduser(\"~/github/SM_distributed/scripts\"))\n",
    "import chebi_importer as ch\n",
    "\n",
    "filters = [ch.containsElement('C'), ch.hasAverageMassWithinRange(50, 2000)]\n",
    "for term in ch.ChebiOntology().termsBelow('metabolite', filters):\n",
    "    chebi.add(normalized(term['sum_formula']))\n",
    "    \n",
    "print len(chebi)"
   ]
  },
  {
   "cell_type": "markdown",
   "metadata": {},
   "source": [
    "We create a new directory for all the data and molecular annotation results:"
   ]
  },
  {
   "cell_type": "code",
   "execution_count": 14,
   "metadata": {
    "collapsed": false
   },
   "outputs": [],
   "source": [
    "dirname = os.path.expanduser(\"~/regenwurm_pos_sim0\")\n",
    "if not os.path.exists(dirname):\n",
    "    os.makedirs(dirname)\n",
    "os.chdir(dirname)"
   ]
  },
  {
   "cell_type": "markdown",
   "metadata": {},
   "source": [
    "An individual isotope pattern database is created for this dataset using `+H`, `+K`, and `+Na` as target adducts, as well as a decoy database that uses all other elements as 'impossible' adducts. The computed theoretical centroids correspond to an FTICR instrument with resolution of 250k @ m/z=200.\n",
    "\n",
    "`ims` tool is available from `alexandrovteam/ims-cpp` (the version used below is at commit `c2764f571b04eb3c1f5794d27a8b9552705a3e5b`)"
   ]
  },
  {
   "cell_type": "code",
   "execution_count": 25,
   "metadata": {
    "collapsed": false,
    "scrolled": true
   },
   "outputs": [
    {
     "name": "stdout",
     "output_type": "stream",
     "text": [
      "Resolution @ m/z=200: 250000\n",
      "Generating isotope pattern database for adducts +H, +K, +Na...\n",
      "|===============================================================| ETA: 0h00m02s\n",
      "Isotope patterns have been saved to chebi_fticr_250k_pos.db\n",
      "Generating decoy database using adducts +Ag, +Al, +Ar, +As, +Au, +B, +Ba, +Be, +Bi, +Br, +C, +Ca, +Cd, +Ce, +Cl, +Co, +Cr, +Cs, +Cu, +Dy, +Er, +Eu, +F, +Fe, +Ga, +Gd, +Ge, +He, +Hf, +Hg, +Ho, +I, +In, +Ir, +Kr, +La, +Li, +Lu, +Mg, +Mn, +Mo, +N, +Nb, +Nd, +Ne, +Ni, +O, +Os, +P, +Pb, +Pd, +Pr, +Pt, +Rb, +Re, +Rh, +Ru, +S, +Sb, +Sc, +Se, +Si, +Sm, +Sn, +Sr, +Ta, +Tb, +Te, +Th, +Ti, +Tl, +Tm, +U, +V, +W, +Xe, +Y, +Yb, +Zn, +Zr...\n",
      "|===============================================================| ETA: 0h01m40s\n",
      "Isotope patterns have been saved to chebi_fticr_250k_pos.db.decoy\n",
      "755.03user 1.77system 1:43.40elapsed 731%CPU (0avgtext+0avgdata 573532maxresident)k\n",
      "0inputs+206360outputs (0major+278870minor)pagefaults 0swaps\n"
     ]
    }
   ],
   "source": [
    "with open(\"chebi.txt\", \"w+\") as f:\n",
    "    for sf in chebi:\n",
    "        f.write(sf + '\\n')\n",
    "\n",
    "!time ims isocalc chebi.txt --adducts=+H,+K,+Na\\\n",
    "    --decoy-adducts=+He,+Li,+Be,+B,+C,+N,+O,+F,+Ne,+Mg,+Al,+Si,+P,+S,+Cl,+Ar,+Ca,+Sc,+Ti,+V,+Cr,\\\n",
    "+Mn,+Fe,+Co,+Ni,+Cu,+Zn,+Ga,+Ge,+As,+Se,+Br,+Kr,+Rb,+Sr,+Y,+Zr,+Nb,+Mo,+Ru,+Rh,+Pd,+Ag,+Cd,+In,\\\n",
    "+Sn,+Sb,+Te,+I,+Xe,+Cs,+Ba,+La,+Ce,+Pr,+Nd,+Sm,+Eu,+Gd,+Tb,+Dy,+Ho,+Ir,+Th,+Pt,+Os,+Yb,+Lu,+Bi,+Pb,\\\n",
    "+Re,+Tl,+Tm,+U,+W,+Au,+Er,+Hf,+Hg,+Ta\\\n",
    "    chebi_fticr_250k_pos.db --resolution 250000 --instrument fticr"
   ]
  },
  {
   "cell_type": "markdown",
   "metadata": {},
   "source": [
    "Original and simulated datasets are then converted to an internal format accepted by `ims` tool:"
   ]
  },
  {
   "cell_type": "code",
   "execution_count": 27,
   "metadata": {
    "collapsed": false,
    "scrolled": true
   },
   "outputs": [
    {
     "name": "stdout",
     "output_type": "stream",
     "text": [
      "dumping chunks sorted by m/z...\n",
      "merging files...\n",
      "removing temporary files\n",
      "done!\n",
      "31.60user 1.72system 0:37.27elapsed 89%CPU (0avgtext+0avgdata 323612maxresident)k\n",
      "3553736inputs+4500904outputs (1major+74809minor)pagefaults 0swaps\n",
      "dumping chunks sorted by m/z...\n",
      "merging files...\n",
      "removing temporary files\n",
      "done!\n",
      "8.94user 0.96system 0:10.55elapsed 93%CPU (0avgtext+0avgdata 319976maxresident)k\n",
      "860072inputs+1473328outputs (3major+64221minor)pagefaults 0swaps\n"
     ]
    }
   ],
   "source": [
    "!time ims convert ~/metabolomics/14_04_29_Regenwurm_pos_centroid.imzML original.imzb\n",
    "!time ims convert ~/simulated_2016_05_04_regenwurm.imzML simulated.imzb"
   ]
  },
  {
   "cell_type": "markdown",
   "metadata": {},
   "source": [
    "Molecular annotation is then performed for the two datasets, and also for both target and decoy databases. \n",
    "\n",
    "In all cases using we use ±3 ppm interval for building m/z images from centroided data."
   ]
  },
  {
   "cell_type": "code",
   "execution_count": 29,
   "metadata": {
    "collapsed": false
   },
   "outputs": [
    {
     "name": "stdout",
     "output_type": "stream",
     "text": [
      "Computing scores |===============================================| ETA: 0h00m05s\n",
      "Computing scores |===============================================| ETA: 0h02m10s\n",
      "Computing scores |===============================================| ETA: 0h00m05s\n",
      "Computing scores |===============================================| ETA: 0h01m58s\n",
      "1770.36user 176.43system 4:25.77elapsed 732%CPU (0avgtext+0avgdata 953108maxresident)k\n",
      "53944inputs+81816outputs (0major+120106701minor)pagefaults 0swaps\n"
     ]
    }
   ],
   "source": [
    "!time bash -c '\\\n",
    "ims detect chebi_fticr_250k_pos.db original.imzb --ppm=3 > original.target.results &&\\\n",
    "ims detect chebi_fticr_250k_pos.db.decoy original.imzb --ppm=3 > original.decoy.results &&\\\n",
    "ims fdr original.target.results original.decoy.results > original.fdr &&\\\n",
    "\\\n",
    "ims detect chebi_fticr_250k_pos.db simulated.imzb --ppm=3 > simulated.target.results &&\\\n",
    "ims detect chebi_fticr_250k_pos.db.decoy simulated.imzb --ppm=3 > simulated.decoy.results'"
   ]
  },
  {
   "cell_type": "markdown",
   "metadata": {},
   "source": [
    "Since we know the groundtruth for the simulated data, we can provide `ims fdr` tool with it, so that it will print the true FDR in addition to estimated values:"
   ]
  },
  {
   "cell_type": "code",
   "execution_count": 33,
   "metadata": {
    "collapsed": true
   },
   "outputs": [],
   "source": [
    "with open(\"groundtruth.txt\", \"w+\") as f:\n",
    "    for layer in layers['layers_list']:\n",
    "        for ion in layers['layers_list'][layer]['sf_list']:\n",
    "            sf, adduct = ion['sf_a'].split('+')\n",
    "            sf = normalized(sf)\n",
    "            f.write(\"{},+{}\\n\".format(sf, adduct))\n",
    "\n",
    "!ims fdr simulated.target.results simulated.decoy.results --groundtruth=groundtruth.txt > simulated.fdr"
   ]
  },
  {
   "cell_type": "code",
   "execution_count": 35,
   "metadata": {
    "collapsed": false
   },
   "outputs": [
    {
     "data": {
      "text/html": [
       "<div>\n",
       "<table border=\"1\" class=\"dataframe\">\n",
       "  <thead>\n",
       "    <tr style=\"text-align: right;\">\n",
       "      <th></th>\n",
       "      <th>formula</th>\n",
       "      <th>adduct</th>\n",
       "      <th>img</th>\n",
       "      <th>iso</th>\n",
       "      <th>moc</th>\n",
       "      <th>est_fdr</th>\n",
       "      <th>true_fdr</th>\n",
       "      <th>correct</th>\n",
       "    </tr>\n",
       "  </thead>\n",
       "  <tbody>\n",
       "    <tr>\n",
       "      <th>0</th>\n",
       "      <td>H57C32O7N5</td>\n",
       "      <td>+H</td>\n",
       "      <td>1.000</td>\n",
       "      <td>1.000</td>\n",
       "      <td>0.999</td>\n",
       "      <td>0.00000</td>\n",
       "      <td>0.0000</td>\n",
       "      <td>1</td>\n",
       "    </tr>\n",
       "    <tr>\n",
       "      <th>1</th>\n",
       "      <td>H13C10O4N3</td>\n",
       "      <td>+H</td>\n",
       "      <td>1.000</td>\n",
       "      <td>0.999</td>\n",
       "      <td>0.999</td>\n",
       "      <td>0.00000</td>\n",
       "      <td>0.0000</td>\n",
       "      <td>1</td>\n",
       "    </tr>\n",
       "    <tr>\n",
       "      <th>2</th>\n",
       "      <td>H28C16O</td>\n",
       "      <td>+K</td>\n",
       "      <td>1.000</td>\n",
       "      <td>0.999</td>\n",
       "      <td>0.999</td>\n",
       "      <td>0.00000</td>\n",
       "      <td>0.0000</td>\n",
       "      <td>1</td>\n",
       "    </tr>\n",
       "    <tr>\n",
       "      <th>3</th>\n",
       "      <td>H17C9O4N</td>\n",
       "      <td>+H</td>\n",
       "      <td>1.000</td>\n",
       "      <td>0.999</td>\n",
       "      <td>0.999</td>\n",
       "      <td>0.00000</td>\n",
       "      <td>0.0000</td>\n",
       "      <td>1</td>\n",
       "    </tr>\n",
       "    <tr>\n",
       "      <th>4</th>\n",
       "      <td>H20C12SO5N4</td>\n",
       "      <td>+Na</td>\n",
       "      <td>1.000</td>\n",
       "      <td>0.999</td>\n",
       "      <td>0.999</td>\n",
       "      <td>0.00000</td>\n",
       "      <td>0.0000</td>\n",
       "      <td>1</td>\n",
       "    </tr>\n",
       "    <tr>\n",
       "      <th>5</th>\n",
       "      <td>H53C30O7N5</td>\n",
       "      <td>+Na</td>\n",
       "      <td>1.000</td>\n",
       "      <td>1.000</td>\n",
       "      <td>0.998</td>\n",
       "      <td>0.00667</td>\n",
       "      <td>0.0000</td>\n",
       "      <td>1</td>\n",
       "    </tr>\n",
       "    <tr>\n",
       "      <th>6</th>\n",
       "      <td>H84C42PO7N</td>\n",
       "      <td>+K</td>\n",
       "      <td>1.000</td>\n",
       "      <td>1.000</td>\n",
       "      <td>0.998</td>\n",
       "      <td>0.00571</td>\n",
       "      <td>0.0000</td>\n",
       "      <td>1</td>\n",
       "    </tr>\n",
       "    <tr>\n",
       "      <th>7</th>\n",
       "      <td>H52C24PO6N</td>\n",
       "      <td>+K</td>\n",
       "      <td>1.000</td>\n",
       "      <td>1.000</td>\n",
       "      <td>0.998</td>\n",
       "      <td>0.00500</td>\n",
       "      <td>0.0000</td>\n",
       "      <td>1</td>\n",
       "    </tr>\n",
       "    <tr>\n",
       "      <th>8</th>\n",
       "      <td>H42C25ON2</td>\n",
       "      <td>+K</td>\n",
       "      <td>1.000</td>\n",
       "      <td>1.000</td>\n",
       "      <td>0.998</td>\n",
       "      <td>0.00444</td>\n",
       "      <td>0.0000</td>\n",
       "      <td>1</td>\n",
       "    </tr>\n",
       "    <tr>\n",
       "      <th>9</th>\n",
       "      <td>H42C26O7</td>\n",
       "      <td>+H</td>\n",
       "      <td>1.000</td>\n",
       "      <td>1.000</td>\n",
       "      <td>0.998</td>\n",
       "      <td>0.00400</td>\n",
       "      <td>0.0000</td>\n",
       "      <td>1</td>\n",
       "    </tr>\n",
       "    <tr>\n",
       "      <th>10</th>\n",
       "      <td>H50C24PO7N</td>\n",
       "      <td>+K</td>\n",
       "      <td>1.000</td>\n",
       "      <td>1.000</td>\n",
       "      <td>0.998</td>\n",
       "      <td>0.00364</td>\n",
       "      <td>0.0000</td>\n",
       "      <td>1</td>\n",
       "    </tr>\n",
       "    <tr>\n",
       "      <th>11</th>\n",
       "      <td>H20C11O3N2</td>\n",
       "      <td>+H</td>\n",
       "      <td>1.000</td>\n",
       "      <td>0.999</td>\n",
       "      <td>0.998</td>\n",
       "      <td>0.00750</td>\n",
       "      <td>0.0000</td>\n",
       "      <td>1</td>\n",
       "    </tr>\n",
       "    <tr>\n",
       "      <th>12</th>\n",
       "      <td>H18C14O6</td>\n",
       "      <td>+K</td>\n",
       "      <td>1.000</td>\n",
       "      <td>0.999</td>\n",
       "      <td>0.998</td>\n",
       "      <td>0.00692</td>\n",
       "      <td>0.0000</td>\n",
       "      <td>1</td>\n",
       "    </tr>\n",
       "    <tr>\n",
       "      <th>13</th>\n",
       "      <td>H36C29O6</td>\n",
       "      <td>+Na</td>\n",
       "      <td>1.000</td>\n",
       "      <td>0.999</td>\n",
       "      <td>0.998</td>\n",
       "      <td>0.00643</td>\n",
       "      <td>0.0000</td>\n",
       "      <td>1</td>\n",
       "    </tr>\n",
       "    <tr>\n",
       "      <th>14</th>\n",
       "      <td>H19C10O4N</td>\n",
       "      <td>+H</td>\n",
       "      <td>0.998</td>\n",
       "      <td>1.000</td>\n",
       "      <td>0.999</td>\n",
       "      <td>0.00600</td>\n",
       "      <td>0.0000</td>\n",
       "      <td>1</td>\n",
       "    </tr>\n",
       "    <tr>\n",
       "      <th>15</th>\n",
       "      <td>H16C12ON2</td>\n",
       "      <td>+Na</td>\n",
       "      <td>1.000</td>\n",
       "      <td>0.998</td>\n",
       "      <td>0.999</td>\n",
       "      <td>0.00562</td>\n",
       "      <td>0.0625</td>\n",
       "      <td>0</td>\n",
       "    </tr>\n",
       "    <tr>\n",
       "      <th>16</th>\n",
       "      <td>H9C10O3N</td>\n",
       "      <td>+K</td>\n",
       "      <td>1.000</td>\n",
       "      <td>0.999</td>\n",
       "      <td>0.998</td>\n",
       "      <td>0.00529</td>\n",
       "      <td>0.0588</td>\n",
       "      <td>1</td>\n",
       "    </tr>\n",
       "    <tr>\n",
       "      <th>17</th>\n",
       "      <td>H31C16S3O10N</td>\n",
       "      <td>+K</td>\n",
       "      <td>1.000</td>\n",
       "      <td>0.999</td>\n",
       "      <td>0.998</td>\n",
       "      <td>0.00500</td>\n",
       "      <td>0.0556</td>\n",
       "      <td>1</td>\n",
       "    </tr>\n",
       "    <tr>\n",
       "      <th>18</th>\n",
       "      <td>H48C23PO7N</td>\n",
       "      <td>+Na</td>\n",
       "      <td>1.000</td>\n",
       "      <td>1.000</td>\n",
       "      <td>0.997</td>\n",
       "      <td>0.01580</td>\n",
       "      <td>0.0526</td>\n",
       "      <td>1</td>\n",
       "    </tr>\n",
       "    <tr>\n",
       "      <th>19</th>\n",
       "      <td>H23C20SO6N5</td>\n",
       "      <td>+K</td>\n",
       "      <td>1.000</td>\n",
       "      <td>1.000</td>\n",
       "      <td>0.997</td>\n",
       "      <td>0.01500</td>\n",
       "      <td>0.0500</td>\n",
       "      <td>1</td>\n",
       "    </tr>\n",
       "  </tbody>\n",
       "</table>\n",
       "</div>"
      ],
      "text/plain": [
       "         formula adduct    img    iso    moc  est_fdr  true_fdr  correct\n",
       "0     H57C32O7N5     +H  1.000  1.000  0.999  0.00000    0.0000        1\n",
       "1     H13C10O4N3     +H  1.000  0.999  0.999  0.00000    0.0000        1\n",
       "2        H28C16O     +K  1.000  0.999  0.999  0.00000    0.0000        1\n",
       "3       H17C9O4N     +H  1.000  0.999  0.999  0.00000    0.0000        1\n",
       "4    H20C12SO5N4    +Na  1.000  0.999  0.999  0.00000    0.0000        1\n",
       "5     H53C30O7N5    +Na  1.000  1.000  0.998  0.00667    0.0000        1\n",
       "6     H84C42PO7N     +K  1.000  1.000  0.998  0.00571    0.0000        1\n",
       "7     H52C24PO6N     +K  1.000  1.000  0.998  0.00500    0.0000        1\n",
       "8      H42C25ON2     +K  1.000  1.000  0.998  0.00444    0.0000        1\n",
       "9       H42C26O7     +H  1.000  1.000  0.998  0.00400    0.0000        1\n",
       "10    H50C24PO7N     +K  1.000  1.000  0.998  0.00364    0.0000        1\n",
       "11    H20C11O3N2     +H  1.000  0.999  0.998  0.00750    0.0000        1\n",
       "12      H18C14O6     +K  1.000  0.999  0.998  0.00692    0.0000        1\n",
       "13      H36C29O6    +Na  1.000  0.999  0.998  0.00643    0.0000        1\n",
       "14     H19C10O4N     +H  0.998  1.000  0.999  0.00600    0.0000        1\n",
       "15     H16C12ON2    +Na  1.000  0.998  0.999  0.00562    0.0625        0\n",
       "16      H9C10O3N     +K  1.000  0.999  0.998  0.00529    0.0588        1\n",
       "17  H31C16S3O10N     +K  1.000  0.999  0.998  0.00500    0.0556        1\n",
       "18    H48C23PO7N    +Na  1.000  1.000  0.997  0.01580    0.0526        1\n",
       "19   H23C20SO6N5     +K  1.000  1.000  0.997  0.01500    0.0500        1"
      ]
     },
     "execution_count": 35,
     "metadata": {},
     "output_type": "execute_result"
    }
   ],
   "source": [
    "import pandas as pd\n",
    "orig_res = pd.read_csv(\"original.fdr\")\n",
    "sim_res = pd.read_csv(\"simulated.fdr\")\n",
    "\n",
    "# to give an idea of how the dataframes look like\n",
    "sim_res.head(n=20)"
   ]
  },
  {
   "cell_type": "code",
   "execution_count": 36,
   "metadata": {
    "collapsed": false
   },
   "outputs": [],
   "source": [
    "def top_results(df):\n",
    "    \"\"\"\n",
    "    results with estimated FDR < 0.1 and positive MSM\n",
    "    \"\"\"\n",
    "    fdr = df['fdr'] if 'fdr' in df else df['est_fdr']\n",
    "    return df[(fdr < 0.1) & (df['img'] * df['iso'] * df['moc'] > 0)]"
   ]
  },
  {
   "cell_type": "markdown",
   "metadata": {},
   "source": [
    "Now we take top results (defined here as having estimated FDR < 0.1 and MSM > 0) for original and simulated data and then see how they correspond to the groundtruth and each other.\n",
    "\n",
    "We can see that over half of the groundtruth is annotated, which shows that good performance of the pipeline is obtained in an ideal case, where the data is almost noiseless."
   ]
  },
  {
   "cell_type": "code",
   "execution_count": 37,
   "metadata": {
    "collapsed": false,
    "scrolled": true
   },
   "outputs": [
    {
     "data": {
      "text/plain": [
       "<matplotlib_venn._common.VennDiagram instance at 0x7f9f6be80200>"
      ]
     },
     "execution_count": 37,
     "metadata": {},
     "output_type": "execute_result"
    },
    {
     "data": {
      "image/png": "[encoded data removed]",
      "text/plain": [
       "<matplotlib.figure.Figure at 0x7f9f7d7d2f90>"
      ]
     },
     "metadata": {},
     "output_type": "display_data"
    }
   ],
   "source": [
    "import matplotlib.pyplot as plt\n",
    "%matplotlib inline\n",
    "from matplotlib_venn import venn3\n",
    "\n",
    "orig_top = set(top_results(orig_res)['formula'])\n",
    "sim_top = set(top_results(sim_res)['formula'])\n",
    "venn3([orig_top, sim_top, sim_layer_formulas & chebi] , \n",
    "      (\"Orig. annotations (0.1 FDR)\", \"Sim. annotations (0.1 FDR)\", \"Sim. groundtruth & CheBI\"))"
   ]
  },
  {
   "cell_type": "markdown",
   "metadata": {},
   "source": [
    "We also compare true and estimated FDR for the simulated dataset, which reveals that there's a room for improvement, but overall the approximation is reasonably good for 0.05–0.1 cutoff."
   ]
  },
  {
   "cell_type": "code",
   "execution_count": 40,
   "metadata": {
    "collapsed": false
   },
   "outputs": [
    {
     "data": {
      "text/plain": [
       "[<matplotlib.lines.Line2D at 0x7f9f560b9b90>]"
      ]
     },
     "execution_count": 40,
     "metadata": {},
     "output_type": "execute_result"
    },
    {
     "data": {
      "image/png": "[encoded data removed]",
      "text/plain": [
       "<matplotlib.figure.Figure at 0x7f9f59beb590>"
      ]
     },
     "metadata": {},
     "output_type": "display_data"
    }
   ],
   "source": [
    "import numpy as np\n",
    "plt.figure(figsize=(7, 7))\n",
    "plt.xlabel(\"Estimated FDR\")\n",
    "plt.ylabel(\"True FDR\")\n",
    "msm = sim_res['moc'] * sim_res['img'] * sim_res['iso']\n",
    "est_fdr = sim_res['est_fdr'][msm > 0]\n",
    "true_fdr = sim_res['true_fdr'][msm > 0]\n",
    "order = est_fdr.argsort()\n",
    "est_fdr = est_fdr[order]\n",
    "true_fdr = true_fdr[order]\n",
    "plt.xlim(0, 1)\n",
    "plt.ylim(0, 1)\n",
    "plt.plot(est_fdr, true_fdr)\n",
    "plt.plot(np.linspace(0, 1, 100), np.linspace(0, 1, 100), '--')"
   ]
  }
 ],
 "metadata": {
  "kernelspec": {
   "display_name": "Python 2",
   "language": "python",
   "name": "python2"
  },
  "language_info": {
   "codemirror_mode": {
    "name": "ipython",
    "version": 2
   },
   "file_extension": ".py",
   "mimetype": "text/x-python",
   "name": "python",
   "nbconvert_exporter": "python",
   "pygments_lexer": "ipython2",
   "version": "2.7.11"
  }
 },
 "nbformat": 4,
 "nbformat_minor": 0
}
